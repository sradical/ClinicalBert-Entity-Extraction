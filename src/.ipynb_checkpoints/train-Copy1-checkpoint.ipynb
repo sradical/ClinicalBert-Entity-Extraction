{
 "cells": [
  {
   "cell_type": "code",
   "execution_count": 1,
   "id": "33bb38dd",
   "metadata": {},
   "outputs": [],
   "source": [
    "import config\n",
    "import pandas as pd\n",
    "import numpy as np\n",
    "from sklearn import preprocessing"
   ]
  },
  {
   "cell_type": "code",
   "execution_count": 2,
   "id": "36a2181b",
   "metadata": {},
   "outputs": [
    {
     "name": "stdout",
     "output_type": "stream",
     "text": [
      "../../../MLMedicalNotesNLPChallenge/bert-entity-extraction/ner_dataset.csv\n"
     ]
    }
   ],
   "source": [
    "print(config.Kaggle_TRAINING_FILE)"
   ]
  },
  {
   "cell_type": "code",
   "execution_count": 3,
   "id": "ebf0df59",
   "metadata": {},
   "outputs": [
    {
     "name": "stdout",
     "output_type": "stream",
     "text": [
      "../input/NCBITraining_tagged.csv\n"
     ]
    }
   ],
   "source": [
    "print(config.NCBI_TRAINING_FILE)"
   ]
  },
  {
   "cell_type": "code",
   "execution_count": 42,
   "id": "44e75f53",
   "metadata": {},
   "outputs": [],
   "source": [
    "kaggle_datapath = config.Kaggle_TRAINING_FILE\n",
    "NCBI_datapath = config.NCBI_TRAINING_FILE"
   ]
  },
  {
   "cell_type": "code",
   "execution_count": 43,
   "id": "f170b0fa",
   "metadata": {},
   "outputs": [],
   "source": [
    "datapath = NCBI_datapath"
   ]
  },
  {
   "cell_type": "code",
   "execution_count": 45,
   "id": "0f026102",
   "metadata": {},
   "outputs": [],
   "source": [
    "def process_data(datapath):\n",
    "    df = pd.read_csv(datapath, encoding=\"latin-1\")\n",
    "    #df.loc[:, 'Sentence #'] = df['Sentence #'].fillna(method = 'ffill') # This is to fill the sentence column\n",
    "    enc_pos = preprocessing.LabelEncoder()\n",
    "    enc_tag = preprocessing.LabelEncoder()\n",
    "    #df.loc[:, 'POS'] = enc_pos.fit_transform(dfk.loc[:, 'POS']) # kaggle file\n",
    "    df.loc[:, 'pos'] = enc_pos.fit_transform(df.loc[:, 'pos'])\n",
    "    #df.loc[:, 'Tag'] = enc_tag.fit_transform(dfk.loc[:, 'Tag']) # kaggle file\n",
    "    df.loc[:, 'tag'] = enc_tag.fit_transform(df.loc[:, 'tag'])\n",
    "    #sentences = dfk.groupby('Sentence #')['Word'].apply(list).values # kaggle file\n",
    "    sentences = df.groupby('sentence#')['token'].apply(list).values\n",
    "    pos = df.groupby('sentence#')['pos'].apply(list).values\n",
    "    tag = df.groupby('sentence#')['tag'].apply(list).values\n",
    "    return sentences, pos, tag"
   ]
  },
  {
   "cell_type": "code",
   "execution_count": 46,
   "id": "e947be1d",
   "metadata": {},
   "outputs": [],
   "source": [
    "sentences, pos, tag = process_data(data_path)"
   ]
  },
  {
   "cell_type": "code",
   "execution_count": 47,
   "id": "4aa971dd",
   "metadata": {},
   "outputs": [
    {
     "data": {
      "text/plain": [
       "3179"
      ]
     },
     "execution_count": 47,
     "metadata": {},
     "output_type": "execute_result"
    }
   ],
   "source": [
    "len(sentences)"
   ]
  },
  {
   "cell_type": "code",
   "execution_count": 48,
   "id": "1973bcfd",
   "metadata": {},
   "outputs": [
    {
     "data": {
      "text/plain": [
       "3179"
      ]
     },
     "execution_count": 48,
     "metadata": {},
     "output_type": "execute_result"
    }
   ],
   "source": [
    "len(pos)"
   ]
  },
  {
   "cell_type": "code",
   "execution_count": 49,
   "id": "0fbb5e4a",
   "metadata": {},
   "outputs": [
    {
     "data": {
      "text/plain": [
       "3179"
      ]
     },
     "execution_count": 49,
     "metadata": {},
     "output_type": "execute_result"
    }
   ],
   "source": [
    "len(tag)"
   ]
  },
  {
   "cell_type": "code",
   "execution_count": null,
   "id": "879f01c5",
   "metadata": {},
   "outputs": [],
   "source": []
  }
 ],
 "metadata": {
  "kernelspec": {
   "display_name": "Python 3 (ipykernel)",
   "language": "python",
   "name": "python3"
  },
  "language_info": {
   "codemirror_mode": {
    "name": "ipython",
    "version": 3
   },
   "file_extension": ".py",
   "mimetype": "text/x-python",
   "name": "python",
   "nbconvert_exporter": "python",
   "pygments_lexer": "ipython3",
   "version": "3.7.12"
  }
 },
 "nbformat": 4,
 "nbformat_minor": 5
}
