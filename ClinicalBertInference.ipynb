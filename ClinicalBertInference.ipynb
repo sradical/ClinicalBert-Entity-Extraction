{
  "nbformat": 4,
  "nbformat_minor": 0,
  "metadata": {
    "colab": {
      "name": "ClinicalBertInference.ipynb",
      "provenance": [],
      "authorship_tag": "ABX9TyOH5iXJV77udhVoPIXi43rh",
      "include_colab_link": true
    },
    "kernelspec": {
      "name": "python3",
      "display_name": "Python 3"
    },
    "language_info": {
      "name": "python"
    }
  },
  "cells": [
    {
      "cell_type": "markdown",
      "metadata": {
        "id": "view-in-github",
        "colab_type": "text"
      },
      "source": [
        "<a href=\"https://colab.research.google.com/github/sradical/ClinicalBert-Entity-Extraction/blob/main/ClinicalBertInference.ipynb\" target=\"_parent\"><img src=\"https://colab.research.google.com/assets/colab-badge.svg\" alt=\"Open In Colab\"/></a>"
      ]
    },
    {
      "cell_type": "code",
      "execution_count": 1,
      "metadata": {
        "id": "TAS7wAFKA3X3",
        "colab": {
          "base_uri": "https://localhost:8080/"
        },
        "outputId": "90af711e-e7ab-4981-cec3-bd7346883092"
      },
      "outputs": [
        {
          "output_type": "stream",
          "name": "stdout",
          "text": [
            "Mounted at /content/drive\n"
          ]
        }
      ],
      "source": [
        "from google.colab import drive\n",
        "drive.mount('/content/drive', force_remount=True)"
      ]
    },
    {
      "cell_type": "code",
      "source": [
        "% cd /content/drive/MyDrive"
      ],
      "metadata": {
        "colab": {
          "base_uri": "https://localhost:8080/"
        },
        "id": "c681XkCuLGfX",
        "outputId": "17bb316e-43f2-42a1-9acd-eec740eac71d"
      },
      "execution_count": 2,
      "outputs": [
        {
          "output_type": "stream",
          "name": "stdout",
          "text": [
            "/content/drive/MyDrive\n"
          ]
        }
      ]
    },
    {
      "cell_type": "code",
      "source": [
        "import sys\n",
        "env_dir = '/content/drive/MyDrive/env_nlp'\n",
        "sys.path.append(env_dir)"
      ],
      "metadata": {
        "id": "xH0Wjo6ILLol"
      },
      "execution_count": 3,
      "outputs": []
    },
    {
      "cell_type": "code",
      "source": [
        "import os\n",
        "import sys\n",
        "from getpass import getpass\n",
        "import urllib\n",
        "import joblib\n",
        "from tqdm import tqdm"
      ],
      "metadata": {
        "id": "zT5XMX1gUKBF"
      },
      "execution_count": 1,
      "outputs": []
    }
  ]
}